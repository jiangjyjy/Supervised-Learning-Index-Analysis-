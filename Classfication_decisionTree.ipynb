{
 "cells": [
  {
   "cell_type": "markdown",
   "metadata": {},
   "source": [
    "# Classfication_decisionTree"
   ]
  },
  {
   "cell_type": "markdown",
   "metadata": {},
   "source": [
    "分类任务有监督模型综合对比分析需要同学们自行搜集分类任务的数据集（一个即可），使用学过的逻辑回归、决策树、神经网络、支持向量机四个模型（可以使用Scikit-learn或其他工具包）在该数据集上进行对比评测，要求：\n",
    "\n",
    "1.每个方法尝试不同参数，运用Accuracy, Precision, Recall, F1四个指标进行对比评测，把结果绘制成表格（四个模型四个表格）和可视化图（只可视化数值型参数即可，如SVM的C，决策树的深度等，每个模型每个参数一张图）\n",
    "\n",
    "2.运用第1条尝试得到的最优参数对四个模型进行横向对比，计算Accuracy, Precision, Recall, F1四个指标，把结果绘制成表格"
   ]
  },
  {
   "cell_type": "markdown",
   "metadata": {},
   "source": [
    "## 1. 导入必要的模块"
   ]
  },
  {
   "cell_type": "code",
   "execution_count": 1,
   "metadata": {},
   "outputs": [],
   "source": [
    "# 导入必要的模块\n",
    "import  pandas  as pd\n",
    "from sklearn.preprocessing import scale\n",
    "from sklearn.model_selection import train_test_split\n",
    "from sklearn import preprocessing\n",
    "from sklearn import svm\n",
    "from sklearn import tree\n",
    "from sklearn.model_selection import GridSearchCV\n",
    "import  numpy  as np\n",
    "import numpy as np\n",
    "import matplotlib.pyplot as plt\n",
    "\n",
    "from sklearn import svm, datasets\n",
    "from sklearn.model_selection import train_test_split\n",
    "from sklearn.metrics import confusion_matrix\n",
    "from sklearn.utils.multiclass import unique_labels\n",
    "from sklearn import linear_model\n",
    "from sklearn.neural_network import MLPClassifier\n",
    "\n",
    "from sklearn import datasets\n",
    "# 忽略警告\n",
    "import warnings\n",
    "warnings.filterwarnings(\"ignore\")"
   ]
  },
  {
   "cell_type": "markdown",
   "metadata": {},
   "source": [
    "## 2. my_confusion_matrix函数"
   ]
  },
  {
   "cell_type": "code",
   "execution_count": 2,
   "metadata": {},
   "outputs": [],
   "source": [
    "def my_confusion_matrix(y_true, y_pred,algorithm):\n",
    "    from sklearn.metrics import confusion_matrix\n",
    "    labels = list(set(y_true))\n",
    "    conf_mat = confusion_matrix(y_true, y_pred, labels=labels)\n",
    "    print(\"[%s]confusion_matrix(left labels: y_true, up labels: y_pred):\" % (algorithm))\n",
    "    print(conf_mat)"
   ]
  },
  {
   "cell_type": "markdown",
   "metadata": {},
   "source": [
    "## 3. my_classification_report函数"
   ]
  },
  {
   "cell_type": "code",
   "execution_count": 3,
   "metadata": {},
   "outputs": [],
   "source": [
    "def my_classification_report(y_true, y_pred, algorithm):\n",
    "    from sklearn.metrics import classification_report\n",
    "    print(\"[%s]classification_report:\" % (algorithm))\n",
    "    print(classification_report(y_true, y_pred))"
   ]
  },
  {
   "cell_type": "markdown",
   "metadata": {},
   "source": [
    "## 4. plot_confusion_matrix函数"
   ]
  },
  {
   "cell_type": "markdown",
   "metadata": {},
   "source": [
    "绘制函数。"
   ]
  },
  {
   "cell_type": "code",
   "execution_count": 4,
   "metadata": {},
   "outputs": [],
   "source": [
    "def plot_confusion_matrix(y_true, y_pred, classes,\n",
    "                          normalize=False,\n",
    "                          title=None,\n",
    "                          cmap=plt.cm.Blues):\n",
    "    \"\"\"\n",
    "    This function prints and plots the confusion matrix.\n",
    "    Normalization can be applied by setting `normalize=True`.\n",
    "    \"\"\"\n",
    "    if not title:\n",
    "        if normalize:\n",
    "            title = 'Normalized confusion matrix'\n",
    "        else:\n",
    "            title = 'Confusion matrix, without normalization'\n",
    "\n",
    "    # Compute confusion matrix\n",
    "    cm = confusion_matrix(y_true, y_pred)\n",
    "    # Only use the labels that appear in the data\n",
    "    # classes = classes[unique_labels(y_true, y_pred)]\n",
    "    if normalize:\n",
    "        cm = cm.astype('float') / cm.sum(axis=1)[:, np.newaxis]\n",
    "        print(\"Normalized confusion matrix\")\n",
    "    else:\n",
    "        print('Confusion matrix, without normalization')\n",
    "\n",
    "    print(cm)\n",
    "\n",
    "    fig, ax = plt.subplots()\n",
    "    im = ax.imshow(cm, interpolation='nearest', cmap=cmap)\n",
    "    ax.figure.colorbar(im, ax=ax)\n",
    "    # We want to show all ticks...\n",
    "    ax.set(xticks=np.arange(cm.shape[1]),\n",
    "           yticks=np.arange(cm.shape[0]),\n",
    "           # ... and label them with the respective list entries\n",
    "           xticklabels=classes, yticklabels=classes,\n",
    "           title=title,\n",
    "           ylabel='True label',\n",
    "           xlabel='Predicted label')\n",
    "\n",
    "    # Rotate the tick labels and set their alignment.\n",
    "    plt.setp(ax.get_xticklabels(), rotation=45, ha=\"right\",\n",
    "             rotation_mode=\"anchor\")\n",
    "\n",
    "    # Loop over data dimensions and create text annotations.\n",
    "    fmt = '.2f' if normalize else 'd'\n",
    "    thresh = cm.max() / 2.\n",
    "    for i in range(cm.shape[0]):\n",
    "        for j in range(cm.shape[1]):\n",
    "            ax.text(j, i, format(cm[i, j], fmt),\n",
    "                    ha=\"center\", va=\"center\",\n",
    "                    color=\"white\" if cm[i, j] > thresh else \"black\")\n",
    "    fig.tight_layout()\n",
    "    return ax"
   ]
  },
  {
   "cell_type": "markdown",
   "metadata": {},
   "source": [
    "## 5. 数据预处理"
   ]
  },
  {
   "cell_type": "markdown",
   "metadata": {},
   "source": [
    "分类使用的是iris数据集，具体数据集的描述如下：\n",
    "\n",
    "https://www.cnblogs.com/Belter/p/8831216.html"
   ]
  },
  {
   "cell_type": "code",
   "execution_count": 5,
   "metadata": {},
   "outputs": [],
   "source": [
    "# 读取iris数据\n",
    "iris  = datasets.load_iris()\n",
    "\n",
    "# 随机划分训练测试集\n",
    "feature = iris.data\n",
    "label = iris.target\n",
    "# 随机划分训练测试集\n",
    "X_train,X_test, Y_train, Y_test = train_test_split(feature,label,test_size=0.3, random_state=0,stratify=label)\n",
    "\n",
    "\n",
    "# 数据归一化\n",
    "min_max_scaler = preprocessing.MinMaxScaler()\n",
    "# 将数据进行归一化\n",
    "X_train = min_max_scaler.fit_transform(X_train)\n",
    "X_test = min_max_scaler.transform(X_test)"
   ]
  },
  {
   "cell_type": "markdown",
   "metadata": {},
   "source": [
    "## 6. 决策树分类"
   ]
  },
  {
   "cell_type": "markdown",
   "metadata": {},
   "source": [
    "使用决策树分类"
   ]
  },
  {
   "cell_type": "code",
   "execution_count": 6,
   "metadata": {},
   "outputs": [
    {
     "name": "stdout",
     "output_type": "stream",
     "text": [
      "DecisionTree训练集： 1.0\n",
      "DecisionTree测试集： 0.9777777777777777\n",
      "[DecisionTree]classification_report:\n",
      "              precision    recall  f1-score   support\n",
      "\n",
      "           0       1.00      1.00      1.00        15\n",
      "           1       0.94      1.00      0.97        15\n",
      "           2       1.00      0.93      0.97        15\n",
      "\n",
      "    accuracy                           0.98        45\n",
      "   macro avg       0.98      0.98      0.98        45\n",
      "weighted avg       0.98      0.98      0.98        45\n",
      "\n",
      "[DecisionTree]confusion_matrix(left labels: y_true, up labels: y_pred):\n",
      "[[15  0  0]\n",
      " [ 0 15  0]\n",
      " [ 0  1 14]]\n",
      "Confusion matrix, without normalization\n",
      "[[15  0  0]\n",
      " [ 0 15  0]\n",
      " [ 0  1 14]]\n",
      "=================================================================================================\n"
     ]
    },
    {
     "data": {
      "image/png": "[encoded data removed]",
      "text/plain": [
       "<Figure size 432x288 with 2 Axes>"
      ]
     },
     "metadata": {
      "needs_background": "light"
     },
     "output_type": "display_data"
    }
   ],
   "source": [
    "classifier = tree.DecisionTreeClassifier()\n",
    "classifier.fit(X_train,Y_train)\n",
    "\n",
    "Y_train_predict = classifier.predict(X_train)\n",
    "Y_test_predict = classifier.predict(X_test)\n",
    "Y_train_predict = Y_train_predict.astype('int32')\n",
    "Y_test_predict = Y_test_predict.astype('int32')\n",
    "Y_train = Y_train.astype('int32')\n",
    "Y_test = Y_test.astype('int32')\n",
    "\n",
    "# 计算KNN分类器的准确率\n",
    "print(\"DecisionTree训练集：\",classifier.score(X_train,Y_train))\n",
    "print(\"DecisionTree测试集：\",classifier.score(X_test,Y_test))\n",
    "# 分类报告\n",
    "my_classification_report(Y_test, Y_test_predict ,'DecisionTree')\n",
    "# 混淆矩阵\n",
    "my_confusion_matrix(Y_test, Y_test_predict, 'DecisionTree')\n",
    "# 画混淆矩阵\n",
    "np.set_printoptions(precision=2)\n",
    "class_names = np.array(['0', '1', '2'])\n",
    "# Plot non-normalized confusion matrix\n",
    "plot_confusion_matrix(Y_test, Y_test_predict, classes=class_names,\n",
    "                      title='[End point coordinates]Confusion matrix, without normalization')\n",
    "# # Plot normalized confusion matrix\n",
    "# plot_confusion_matrix(Y_test, Y_test_predict, classes=class_names, normalize=True,\n",
    "#                       title='[DecisionTree]Normalized confusion matrix')\n",
    "\n",
    "print('=================================================================================================')\n",
    "\n",
    "\n",
    "\n",
    "plt.show()"
   ]
  },
  {
   "cell_type": "code",
   "execution_count": null,
   "metadata": {},
   "outputs": [],
   "source": []
  },
  {
   "cell_type": "code",
   "execution_count": null,
   "metadata": {},
   "outputs": [],
   "source": []
  }
 ],
 "metadata": {
  "kernelspec": {
   "display_name": "Python 3",
   "language": "python",
   "name": "python3"
  },
  "language_info": {
   "codemirror_mode": {
    "name": "ipython",
    "version": 3
   },
   "file_extension": ".py",
   "mimetype": "text/x-python",
   "name": "python",
   "nbconvert_exporter": "python",
   "pygments_lexer": "ipython3",
   "version": "3.6.5"
  }
 },
 "nbformat": 4,
 "nbformat_minor": 2
}
